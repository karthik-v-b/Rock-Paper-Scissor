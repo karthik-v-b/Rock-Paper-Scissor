{
  "nbformat": 4,
  "nbformat_minor": 0,
  "metadata": {
    "colab": {
      "name": "RockPaperScissor.ipynb",
      "provenance": [],
      "collapsed_sections": []
    },
    "kernelspec": {
      "name": "python3",
      "display_name": "Python 3"
    },
    "language_info": {
      "name": "python"
    }
  },
  "cells": [
    {
      "cell_type": "markdown",
      "metadata": {
        "id": "M3Mln35I1ATD"
      },
      "source": [
        "# Rock-Paper-Scissor"
      ]
    },
    {
      "cell_type": "code",
      "metadata": {
        "colab": {
          "base_uri": "https://localhost:8080/"
        },
        "id": "6Tp_jXwCzqJ4",
        "outputId": "a83e5f73-3875-47ec-f44b-ce34054d0488"
      },
      "source": [
        "import random\n",
        "PlayerA = input(\"Enter the name of Player A : \")\n",
        "PlayerB = \"Computer\"\n",
        "Try = 0\n",
        "A=0\n",
        "B=0\n",
        "choice = (\"Rock\",\"Paper\",\"Scissor\")\n",
        "while A<3 and B<3:\n",
        "  Try+=1\n",
        "  print(f\"Try : {Try}\")\n",
        "  AC = str.lower(input(f\"Enter your Choice {PlayerA} : \"))\n",
        "  BC = str.lower(random.choice (choice))\n",
        "  if AC == \"rock\" and BC == \"paper\":\n",
        "    B+=1\n",
        "    print(\"Player B Won\")\n",
        "  elif AC == \"rock\" and BC == \"scissor\":\n",
        "    A+=1\n",
        "    print(\"Player A Won\")\n",
        "  elif AC == \"paper\" and BC == \"rock\":\n",
        "    A+=1\n",
        "    print(\"Player A Won\")\n",
        "  elif AC == \"paper\" and BC == \"scissor\":\n",
        "    B+=1\n",
        "    print(\"Player B Won\")\n",
        "  elif AC == \"scissor\" and BC == \"rock\":\n",
        "    B+=1\n",
        "    print(\"Player B Won\")\n",
        "  elif AC == \"scissor\" and BC == \"paper\":\n",
        "    A+=1\n",
        "    print(\"Player A Won\")\n",
        "  else:\n",
        "    print(\"Tie\")\n",
        "  if A==3:\n",
        "    print(f\"{PlayerA} Won the Match...!!!\")\n",
        "  elif B==3:\n",
        "    print(f\"{PlayerB} Won the Match...!!!\")"
      ],
      "execution_count": 1,
      "outputs": [
        {
          "output_type": "stream",
          "name": "stdout",
          "text": [
            "Enter the name of Player A : Karthik\n",
            "Try : 1\n",
            "Enter your Choice Karthik : rock\n",
            "Tie\n",
            "Try : 2\n",
            "Enter your Choice Karthik : paper\n",
            "Player A Won\n",
            "Try : 3\n",
            "Enter your Choice Karthik : scissor\n",
            "Player B Won\n",
            "Try : 4\n",
            "Enter your Choice Karthik : rock\n",
            "Tie\n",
            "Try : 5\n",
            "Enter your Choice Karthik : rock\n",
            "Tie\n",
            "Try : 6\n",
            "Enter your Choice Karthik : paper\n",
            "Tie\n",
            "Try : 7\n",
            "Enter your Choice Karthik : scissor\n",
            "Player B Won\n",
            "Try : 8\n",
            "Enter your Choice Karthik : scissor\n",
            "Player B Won\n",
            "Computer Won the Match...!!!\n"
          ]
        }
      ]
    }
  ]
}